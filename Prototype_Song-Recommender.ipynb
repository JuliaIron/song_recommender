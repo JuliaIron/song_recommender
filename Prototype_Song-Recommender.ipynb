{
 "cells": [
  {
   "cell_type": "code",
   "execution_count": 110,
   "id": "14c72429",
   "metadata": {},
   "outputs": [],
   "source": [
    "import pandas as pd\n",
    "from sklearn import datasets\n",
    "from sklearn.preprocessing import StandardScaler\n",
    "from sklearn.cluster import KMeans\n",
    "from sklearn.metrics import silhouette_score\n",
    "import random"
   ]
  },
  {
   "cell_type": "code",
   "execution_count": 111,
   "id": "d6219c21",
   "metadata": {},
   "outputs": [],
   "source": [
    "import requests\n",
    "import json\n",
    "import spotipy\n",
    "from spotipy.oauth2 import SpotifyClientCredentials\n",
    "import config"
   ]
  },
  {
   "cell_type": "code",
   "execution_count": 112,
   "id": "6b968889",
   "metadata": {},
   "outputs": [],
   "source": [
    "sp = spotipy.Spotify(auth_manager=SpotifyClientCredentials(client_id=config.client_id,\n",
    "                                                           client_secret=config.client_secret))"
   ]
  },
  {
   "cell_type": "markdown",
   "id": "232dce14",
   "metadata": {},
   "source": [
    "### User Interaction"
   ]
  },
  {
   "cell_type": "code",
   "execution_count": 113,
   "id": "45582b97",
   "metadata": {},
   "outputs": [],
   "source": [
    "df = pd.read_csv(\"artist_song_list.csv\")"
   ]
  },
  {
   "cell_type": "code",
   "execution_count": 114,
   "id": "8f4e3e8c",
   "metadata": {},
   "outputs": [],
   "source": [
    "def get_track_id(track): \n",
    "    search_track = sp.search(q=track, type='track')\n",
    "    track_id = search_track['tracks']['items'][0]['id']\n",
    "    return track_id"
   ]
  },
  {
   "cell_type": "code",
   "execution_count": 115,
   "id": "b41c6d36",
   "metadata": {},
   "outputs": [
    {
     "data": {
      "text/plain": [
       "'0D123zNFzYdUfmKo8n1ccY'"
      ]
     },
     "execution_count": 115,
     "metadata": {},
     "output_type": "execute_result"
    }
   ],
   "source": [
    "get_track_id(\"war in my mind\")"
   ]
  },
  {
   "cell_type": "code",
   "execution_count": 116,
   "id": "6d64c662",
   "metadata": {},
   "outputs": [],
   "source": [
    "def get_track_data(track_id):\n",
    "    meta = sp.track(track_id)\n",
    "    track_details = {\"name\":meta['name'], \"album\":meta['album']['name'], \n",
    "                    \"artist\":meta['album']['artists'][0]['name']}\n",
    "    return track_details"
   ]
  },
  {
   "cell_type": "code",
   "execution_count": 117,
   "id": "028a1af7",
   "metadata": {},
   "outputs": [
    {
     "data": {
      "text/plain": [
       "{'name': 'War In My Mind', 'album': 'War In My Mind', 'artist': 'Beth Hart'}"
      ]
     },
     "execution_count": 117,
     "metadata": {},
     "output_type": "execute_result"
    }
   ],
   "source": [
    "get_track_data('0D123zNFzYdUfmKo8n1ccY')"
   ]
  },
  {
   "cell_type": "code",
   "execution_count": 118,
   "id": "ebf35f0f",
   "metadata": {},
   "outputs": [],
   "source": [
    "def recommend_song():\n",
    "    requested_song = input(\"Tell me your favorite song: \")\n",
    "        \n",
    "    if requested_song in list(df[\"song\"]):\n",
    "        choice = df[\"song\"].iloc[random.randint(0,len(df))]\n",
    "        return \"Excellent choice! You will also like the song\"  + \" \" + choice\n",
    "    else:\n",
    "        song_id = get_track_id(requested_song)\n",
    "        print(song_id)\n",
    "        print(requested_song)\n",
    "        song_data = get_track_data(song_id)\n",
    "        print(song_data)\n",
    "        return \"This song is not hot. But your song is really good: \" + song_data['name'] + \" by \" + song_data['artist']"
   ]
  },
  {
   "cell_type": "code",
   "execution_count": 119,
   "id": "b0ef0076",
   "metadata": {},
   "outputs": [
    {
     "name": "stdout",
     "output_type": "stream",
     "text": [
      "Tell me your favorite song: war in my mind\n",
      "0D123zNFzYdUfmKo8n1ccY\n",
      "war in my mind\n",
      "{'name': 'War In My Mind', 'album': 'War In My Mind', 'artist': 'Beth Hart'}\n"
     ]
    },
    {
     "data": {
      "text/plain": [
       "'This song is not hot. But your song is really good: War In My Mind by Beth Hart'"
      ]
     },
     "execution_count": 119,
     "metadata": {},
     "output_type": "execute_result"
    }
   ],
   "source": [
    "recommend_song()"
   ]
  },
  {
   "cell_type": "code",
   "execution_count": 120,
   "id": "a978f764",
   "metadata": {},
   "outputs": [
    {
     "data": {
      "text/plain": [
       "'0D123zNFzYdUfmKo8n1ccY'"
      ]
     },
     "execution_count": 120,
     "metadata": {},
     "output_type": "execute_result"
    }
   ],
   "source": [
    "get_track_id(\"war in my mind\")"
   ]
  },
  {
   "cell_type": "code",
   "execution_count": 121,
   "id": "1fdb1647",
   "metadata": {},
   "outputs": [
    {
     "data": {
      "text/plain": [
       "{'name': 'War In My Mind', 'album': 'War In My Mind', 'artist': 'Beth Hart'}"
      ]
     },
     "execution_count": 121,
     "metadata": {},
     "output_type": "execute_result"
    }
   ],
   "source": [
    "get_track_data(\"0D123zNFzYdUfmKo8n1ccY\")"
   ]
  },
  {
   "cell_type": "code",
   "execution_count": null,
   "id": "ab9a9fd1",
   "metadata": {},
   "outputs": [],
   "source": []
  },
  {
   "cell_type": "code",
   "execution_count": null,
   "id": "19eb96d1",
   "metadata": {},
   "outputs": [],
   "source": []
  },
  {
   "cell_type": "markdown",
   "id": "963b218d",
   "metadata": {},
   "source": [
    "### List of 101.000 Songs"
   ]
  },
  {
   "cell_type": "code",
   "execution_count": 122,
   "id": "1d3c0945",
   "metadata": {},
   "outputs": [],
   "source": [
    "song_lst = pd.read_pickle(\"100kfeatslist.pkl\")\n",
    "song_lst = [song for song in song_lst if song]\n",
    "df_101k_songs = pd.DataFrame(song_lst)"
   ]
  },
  {
   "cell_type": "code",
   "execution_count": 123,
   "id": "17f063ae",
   "metadata": {},
   "outputs": [
    {
     "data": {
      "text/html": [
       "<div>\n",
       "<style scoped>\n",
       "    .dataframe tbody tr th:only-of-type {\n",
       "        vertical-align: middle;\n",
       "    }\n",
       "\n",
       "    .dataframe tbody tr th {\n",
       "        vertical-align: top;\n",
       "    }\n",
       "\n",
       "    .dataframe thead th {\n",
       "        text-align: right;\n",
       "    }\n",
       "</style>\n",
       "<table border=\"1\" class=\"dataframe\">\n",
       "  <thead>\n",
       "    <tr style=\"text-align: right;\">\n",
       "      <th></th>\n",
       "      <th>danceability</th>\n",
       "      <th>energy</th>\n",
       "      <th>key</th>\n",
       "      <th>loudness</th>\n",
       "      <th>mode</th>\n",
       "      <th>speechiness</th>\n",
       "      <th>acousticness</th>\n",
       "      <th>instrumentalness</th>\n",
       "      <th>liveness</th>\n",
       "      <th>valence</th>\n",
       "      <th>tempo</th>\n",
       "      <th>type</th>\n",
       "      <th>id</th>\n",
       "      <th>uri</th>\n",
       "      <th>track_href</th>\n",
       "      <th>analysis_url</th>\n",
       "      <th>duration_ms</th>\n",
       "      <th>time_signature</th>\n",
       "    </tr>\n",
       "  </thead>\n",
       "  <tbody>\n",
       "    <tr>\n",
       "      <th>0</th>\n",
       "      <td>0.1170</td>\n",
       "      <td>0.1080</td>\n",
       "      <td>10</td>\n",
       "      <td>-26.922</td>\n",
       "      <td>1</td>\n",
       "      <td>0.0514</td>\n",
       "      <td>0.471</td>\n",
       "      <td>0.942</td>\n",
       "      <td>0.0785</td>\n",
       "      <td>0.0533</td>\n",
       "      <td>168.900</td>\n",
       "      <td>audio_features</td>\n",
       "      <td>0saVGOHWPnGXus321u3c1i</td>\n",
       "      <td>spotify:track:0saVGOHWPnGXus321u3c1i</td>\n",
       "      <td>https://api.spotify.com/v1/tracks/0saVGOHWPnGX...</td>\n",
       "      <td>https://api.spotify.com/v1/audio-analysis/0saV...</td>\n",
       "      <td>236347</td>\n",
       "      <td>4</td>\n",
       "    </tr>\n",
       "    <tr>\n",
       "      <th>1</th>\n",
       "      <td>0.0663</td>\n",
       "      <td>0.0906</td>\n",
       "      <td>2</td>\n",
       "      <td>-26.770</td>\n",
       "      <td>0</td>\n",
       "      <td>0.0457</td>\n",
       "      <td>0.810</td>\n",
       "      <td>0.645</td>\n",
       "      <td>0.1120</td>\n",
       "      <td>0.0427</td>\n",
       "      <td>57.020</td>\n",
       "      <td>audio_features</td>\n",
       "      <td>0tQjYkNljPf8hhP7RdseSb</td>\n",
       "      <td>spotify:track:0tQjYkNljPf8hhP7RdseSb</td>\n",
       "      <td>https://api.spotify.com/v1/tracks/0tQjYkNljPf8...</td>\n",
       "      <td>https://api.spotify.com/v1/audio-analysis/0tQj...</td>\n",
       "      <td>121627</td>\n",
       "      <td>4</td>\n",
       "    </tr>\n",
       "    <tr>\n",
       "      <th>2</th>\n",
       "      <td>0.3990</td>\n",
       "      <td>0.2190</td>\n",
       "      <td>10</td>\n",
       "      <td>-22.531</td>\n",
       "      <td>0</td>\n",
       "      <td>0.0351</td>\n",
       "      <td>0.911</td>\n",
       "      <td>0.910</td>\n",
       "      <td>0.0915</td>\n",
       "      <td>0.1270</td>\n",
       "      <td>139.034</td>\n",
       "      <td>audio_features</td>\n",
       "      <td>78U33gGujgyj1393Dr8uWO</td>\n",
       "      <td>spotify:track:78U33gGujgyj1393Dr8uWO</td>\n",
       "      <td>https://api.spotify.com/v1/tracks/78U33gGujgyj...</td>\n",
       "      <td>https://api.spotify.com/v1/audio-analysis/78U3...</td>\n",
       "      <td>178653</td>\n",
       "      <td>4</td>\n",
       "    </tr>\n",
       "    <tr>\n",
       "      <th>3</th>\n",
       "      <td>0.2390</td>\n",
       "      <td>0.0358</td>\n",
       "      <td>2</td>\n",
       "      <td>-24.548</td>\n",
       "      <td>0</td>\n",
       "      <td>0.0414</td>\n",
       "      <td>0.962</td>\n",
       "      <td>0.923</td>\n",
       "      <td>0.0841</td>\n",
       "      <td>0.0529</td>\n",
       "      <td>116.784</td>\n",
       "      <td>audio_features</td>\n",
       "      <td>7MqzOAWxhXEoRyivx1cfdF</td>\n",
       "      <td>spotify:track:7MqzOAWxhXEoRyivx1cfdF</td>\n",
       "      <td>https://api.spotify.com/v1/tracks/7MqzOAWxhXEo...</td>\n",
       "      <td>https://api.spotify.com/v1/audio-analysis/7Mqz...</td>\n",
       "      <td>143040</td>\n",
       "      <td>4</td>\n",
       "    </tr>\n",
       "    <tr>\n",
       "      <th>4</th>\n",
       "      <td>0.0937</td>\n",
       "      <td>0.0496</td>\n",
       "      <td>8</td>\n",
       "      <td>-25.550</td>\n",
       "      <td>1</td>\n",
       "      <td>0.0401</td>\n",
       "      <td>0.930</td>\n",
       "      <td>0.883</td>\n",
       "      <td>0.0560</td>\n",
       "      <td>0.0319</td>\n",
       "      <td>79.851</td>\n",
       "      <td>audio_features</td>\n",
       "      <td>7LlnIsRxZD5w2GmGD1u3l1</td>\n",
       "      <td>spotify:track:7LlnIsRxZD5w2GmGD1u3l1</td>\n",
       "      <td>https://api.spotify.com/v1/tracks/7LlnIsRxZD5w...</td>\n",
       "      <td>https://api.spotify.com/v1/audio-analysis/7Lln...</td>\n",
       "      <td>374200</td>\n",
       "      <td>4</td>\n",
       "    </tr>\n",
       "  </tbody>\n",
       "</table>\n",
       "</div>"
      ],
      "text/plain": [
       "   danceability  energy  key  loudness  mode  speechiness  acousticness  \\\n",
       "0        0.1170  0.1080   10   -26.922     1       0.0514         0.471   \n",
       "1        0.0663  0.0906    2   -26.770     0       0.0457         0.810   \n",
       "2        0.3990  0.2190   10   -22.531     0       0.0351         0.911   \n",
       "3        0.2390  0.0358    2   -24.548     0       0.0414         0.962   \n",
       "4        0.0937  0.0496    8   -25.550     1       0.0401         0.930   \n",
       "\n",
       "   instrumentalness  liveness  valence    tempo            type  \\\n",
       "0             0.942    0.0785   0.0533  168.900  audio_features   \n",
       "1             0.645    0.1120   0.0427   57.020  audio_features   \n",
       "2             0.910    0.0915   0.1270  139.034  audio_features   \n",
       "3             0.923    0.0841   0.0529  116.784  audio_features   \n",
       "4             0.883    0.0560   0.0319   79.851  audio_features   \n",
       "\n",
       "                       id                                   uri  \\\n",
       "0  0saVGOHWPnGXus321u3c1i  spotify:track:0saVGOHWPnGXus321u3c1i   \n",
       "1  0tQjYkNljPf8hhP7RdseSb  spotify:track:0tQjYkNljPf8hhP7RdseSb   \n",
       "2  78U33gGujgyj1393Dr8uWO  spotify:track:78U33gGujgyj1393Dr8uWO   \n",
       "3  7MqzOAWxhXEoRyivx1cfdF  spotify:track:7MqzOAWxhXEoRyivx1cfdF   \n",
       "4  7LlnIsRxZD5w2GmGD1u3l1  spotify:track:7LlnIsRxZD5w2GmGD1u3l1   \n",
       "\n",
       "                                          track_href  \\\n",
       "0  https://api.spotify.com/v1/tracks/0saVGOHWPnGX...   \n",
       "1  https://api.spotify.com/v1/tracks/0tQjYkNljPf8...   \n",
       "2  https://api.spotify.com/v1/tracks/78U33gGujgyj...   \n",
       "3  https://api.spotify.com/v1/tracks/7MqzOAWxhXEo...   \n",
       "4  https://api.spotify.com/v1/tracks/7LlnIsRxZD5w...   \n",
       "\n",
       "                                        analysis_url  duration_ms  \\\n",
       "0  https://api.spotify.com/v1/audio-analysis/0saV...       236347   \n",
       "1  https://api.spotify.com/v1/audio-analysis/0tQj...       121627   \n",
       "2  https://api.spotify.com/v1/audio-analysis/78U3...       178653   \n",
       "3  https://api.spotify.com/v1/audio-analysis/7Mqz...       143040   \n",
       "4  https://api.spotify.com/v1/audio-analysis/7Lln...       374200   \n",
       "\n",
       "   time_signature  \n",
       "0               4  \n",
       "1               4  \n",
       "2               4  \n",
       "3               4  \n",
       "4               4  "
      ]
     },
     "execution_count": 123,
     "metadata": {},
     "output_type": "execute_result"
    }
   ],
   "source": [
    "df_101k_songs.head()"
   ]
  },
  {
   "cell_type": "code",
   "execution_count": 124,
   "id": "578680cf",
   "metadata": {},
   "outputs": [
    {
     "data": {
      "text/html": [
       "<div>\n",
       "<style scoped>\n",
       "    .dataframe tbody tr th:only-of-type {\n",
       "        vertical-align: middle;\n",
       "    }\n",
       "\n",
       "    .dataframe tbody tr th {\n",
       "        vertical-align: top;\n",
       "    }\n",
       "\n",
       "    .dataframe thead th {\n",
       "        text-align: right;\n",
       "    }\n",
       "</style>\n",
       "<table border=\"1\" class=\"dataframe\">\n",
       "  <thead>\n",
       "    <tr style=\"text-align: right;\">\n",
       "      <th></th>\n",
       "      <th>danceability</th>\n",
       "      <th>energy</th>\n",
       "      <th>key</th>\n",
       "      <th>loudness</th>\n",
       "      <th>mode</th>\n",
       "      <th>speechiness</th>\n",
       "      <th>acousticness</th>\n",
       "      <th>instrumentalness</th>\n",
       "      <th>liveness</th>\n",
       "      <th>valence</th>\n",
       "      <th>tempo</th>\n",
       "    </tr>\n",
       "  </thead>\n",
       "  <tbody>\n",
       "    <tr>\n",
       "      <th>0</th>\n",
       "      <td>0.1170</td>\n",
       "      <td>0.1080</td>\n",
       "      <td>10</td>\n",
       "      <td>-26.922</td>\n",
       "      <td>1</td>\n",
       "      <td>0.0514</td>\n",
       "      <td>0.4710</td>\n",
       "      <td>0.942000</td>\n",
       "      <td>0.0785</td>\n",
       "      <td>0.0533</td>\n",
       "      <td>168.900</td>\n",
       "    </tr>\n",
       "    <tr>\n",
       "      <th>1</th>\n",
       "      <td>0.0663</td>\n",
       "      <td>0.0906</td>\n",
       "      <td>2</td>\n",
       "      <td>-26.770</td>\n",
       "      <td>0</td>\n",
       "      <td>0.0457</td>\n",
       "      <td>0.8100</td>\n",
       "      <td>0.645000</td>\n",
       "      <td>0.1120</td>\n",
       "      <td>0.0427</td>\n",
       "      <td>57.020</td>\n",
       "    </tr>\n",
       "    <tr>\n",
       "      <th>2</th>\n",
       "      <td>0.3990</td>\n",
       "      <td>0.2190</td>\n",
       "      <td>10</td>\n",
       "      <td>-22.531</td>\n",
       "      <td>0</td>\n",
       "      <td>0.0351</td>\n",
       "      <td>0.9110</td>\n",
       "      <td>0.910000</td>\n",
       "      <td>0.0915</td>\n",
       "      <td>0.1270</td>\n",
       "      <td>139.034</td>\n",
       "    </tr>\n",
       "    <tr>\n",
       "      <th>3</th>\n",
       "      <td>0.2390</td>\n",
       "      <td>0.0358</td>\n",
       "      <td>2</td>\n",
       "      <td>-24.548</td>\n",
       "      <td>0</td>\n",
       "      <td>0.0414</td>\n",
       "      <td>0.9620</td>\n",
       "      <td>0.923000</td>\n",
       "      <td>0.0841</td>\n",
       "      <td>0.0529</td>\n",
       "      <td>116.784</td>\n",
       "    </tr>\n",
       "    <tr>\n",
       "      <th>4</th>\n",
       "      <td>0.0937</td>\n",
       "      <td>0.0496</td>\n",
       "      <td>8</td>\n",
       "      <td>-25.550</td>\n",
       "      <td>1</td>\n",
       "      <td>0.0401</td>\n",
       "      <td>0.9300</td>\n",
       "      <td>0.883000</td>\n",
       "      <td>0.0560</td>\n",
       "      <td>0.0319</td>\n",
       "      <td>79.851</td>\n",
       "    </tr>\n",
       "    <tr>\n",
       "      <th>...</th>\n",
       "      <td>...</td>\n",
       "      <td>...</td>\n",
       "      <td>...</td>\n",
       "      <td>...</td>\n",
       "      <td>...</td>\n",
       "      <td>...</td>\n",
       "      <td>...</td>\n",
       "      <td>...</td>\n",
       "      <td>...</td>\n",
       "      <td>...</td>\n",
       "      <td>...</td>\n",
       "    </tr>\n",
       "    <tr>\n",
       "      <th>101381</th>\n",
       "      <td>0.7910</td>\n",
       "      <td>0.6080</td>\n",
       "      <td>6</td>\n",
       "      <td>-10.428</td>\n",
       "      <td>0</td>\n",
       "      <td>0.2880</td>\n",
       "      <td>0.0556</td>\n",
       "      <td>0.000074</td>\n",
       "      <td>0.3610</td>\n",
       "      <td>0.6210</td>\n",
       "      <td>111.518</td>\n",
       "    </tr>\n",
       "    <tr>\n",
       "      <th>101382</th>\n",
       "      <td>0.7890</td>\n",
       "      <td>0.4270</td>\n",
       "      <td>11</td>\n",
       "      <td>-12.633</td>\n",
       "      <td>1</td>\n",
       "      <td>0.1390</td>\n",
       "      <td>0.1340</td>\n",
       "      <td>0.883000</td>\n",
       "      <td>0.2880</td>\n",
       "      <td>0.8710</td>\n",
       "      <td>96.885</td>\n",
       "    </tr>\n",
       "    <tr>\n",
       "      <th>101383</th>\n",
       "      <td>0.6020</td>\n",
       "      <td>0.7980</td>\n",
       "      <td>4</td>\n",
       "      <td>-10.125</td>\n",
       "      <td>0</td>\n",
       "      <td>0.0703</td>\n",
       "      <td>0.0159</td>\n",
       "      <td>0.407000</td>\n",
       "      <td>0.3760</td>\n",
       "      <td>0.5040</td>\n",
       "      <td>197.143</td>\n",
       "    </tr>\n",
       "    <tr>\n",
       "      <th>101384</th>\n",
       "      <td>0.9200</td>\n",
       "      <td>0.6460</td>\n",
       "      <td>1</td>\n",
       "      <td>-8.735</td>\n",
       "      <td>1</td>\n",
       "      <td>0.2850</td>\n",
       "      <td>0.0430</td>\n",
       "      <td>0.000012</td>\n",
       "      <td>0.3070</td>\n",
       "      <td>0.8310</td>\n",
       "      <td>93.794</td>\n",
       "    </tr>\n",
       "    <tr>\n",
       "      <th>101385</th>\n",
       "      <td>0.7510</td>\n",
       "      <td>0.7590</td>\n",
       "      <td>6</td>\n",
       "      <td>-9.996</td>\n",
       "      <td>0</td>\n",
       "      <td>0.2270</td>\n",
       "      <td>0.1800</td>\n",
       "      <td>0.000011</td>\n",
       "      <td>0.2720</td>\n",
       "      <td>0.3730</td>\n",
       "      <td>111.536</td>\n",
       "    </tr>\n",
       "  </tbody>\n",
       "</table>\n",
       "<p>101386 rows × 11 columns</p>\n",
       "</div>"
      ],
      "text/plain": [
       "        danceability  energy  key  loudness  mode  speechiness  acousticness  \\\n",
       "0             0.1170  0.1080   10   -26.922     1       0.0514        0.4710   \n",
       "1             0.0663  0.0906    2   -26.770     0       0.0457        0.8100   \n",
       "2             0.3990  0.2190   10   -22.531     0       0.0351        0.9110   \n",
       "3             0.2390  0.0358    2   -24.548     0       0.0414        0.9620   \n",
       "4             0.0937  0.0496    8   -25.550     1       0.0401        0.9300   \n",
       "...              ...     ...  ...       ...   ...          ...           ...   \n",
       "101381        0.7910  0.6080    6   -10.428     0       0.2880        0.0556   \n",
       "101382        0.7890  0.4270   11   -12.633     1       0.1390        0.1340   \n",
       "101383        0.6020  0.7980    4   -10.125     0       0.0703        0.0159   \n",
       "101384        0.9200  0.6460    1    -8.735     1       0.2850        0.0430   \n",
       "101385        0.7510  0.7590    6    -9.996     0       0.2270        0.1800   \n",
       "\n",
       "        instrumentalness  liveness  valence    tempo  \n",
       "0               0.942000    0.0785   0.0533  168.900  \n",
       "1               0.645000    0.1120   0.0427   57.020  \n",
       "2               0.910000    0.0915   0.1270  139.034  \n",
       "3               0.923000    0.0841   0.0529  116.784  \n",
       "4               0.883000    0.0560   0.0319   79.851  \n",
       "...                  ...       ...      ...      ...  \n",
       "101381          0.000074    0.3610   0.6210  111.518  \n",
       "101382          0.883000    0.2880   0.8710   96.885  \n",
       "101383          0.407000    0.3760   0.5040  197.143  \n",
       "101384          0.000012    0.3070   0.8310   93.794  \n",
       "101385          0.000011    0.2720   0.3730  111.536  \n",
       "\n",
       "[101386 rows x 11 columns]"
      ]
     },
     "execution_count": 124,
     "metadata": {},
     "output_type": "execute_result"
    }
   ],
   "source": [
    "df_acoustic_features = pd.DataFrame(data=df_101k_songs, columns=[\"danceability\",\"energy\",\"key\",\"loudness\",\"mode\",\"speechiness\",\"acousticness\",\"instrumentalness\",\"liveness\",\"valence\",\"tempo\"])\n",
    "df_acoustic_features"
   ]
  },
  {
   "cell_type": "markdown",
   "id": "d10a362a",
   "metadata": {},
   "source": [
    "### Scaling Audio Features for Clustering"
   ]
  },
  {
   "cell_type": "code",
   "execution_count": 125,
   "id": "ff5c2099",
   "metadata": {},
   "outputs": [
    {
     "data": {
      "text/html": [
       "<div>\n",
       "<style scoped>\n",
       "    .dataframe tbody tr th:only-of-type {\n",
       "        vertical-align: middle;\n",
       "    }\n",
       "\n",
       "    .dataframe tbody tr th {\n",
       "        vertical-align: top;\n",
       "    }\n",
       "\n",
       "    .dataframe thead th {\n",
       "        text-align: right;\n",
       "    }\n",
       "</style>\n",
       "<table border=\"1\" class=\"dataframe\">\n",
       "  <thead>\n",
       "    <tr style=\"text-align: right;\">\n",
       "      <th></th>\n",
       "      <th>danceability</th>\n",
       "      <th>energy</th>\n",
       "      <th>key</th>\n",
       "      <th>loudness</th>\n",
       "      <th>mode</th>\n",
       "      <th>speechiness</th>\n",
       "      <th>acousticness</th>\n",
       "      <th>instrumentalness</th>\n",
       "      <th>liveness</th>\n",
       "      <th>valence</th>\n",
       "      <th>tempo</th>\n",
       "    </tr>\n",
       "  </thead>\n",
       "  <tbody>\n",
       "    <tr>\n",
       "      <th>0</th>\n",
       "      <td>0.1170</td>\n",
       "      <td>0.1080</td>\n",
       "      <td>10</td>\n",
       "      <td>-26.922</td>\n",
       "      <td>1</td>\n",
       "      <td>0.0514</td>\n",
       "      <td>0.471</td>\n",
       "      <td>0.942</td>\n",
       "      <td>0.0785</td>\n",
       "      <td>0.0533</td>\n",
       "      <td>168.900</td>\n",
       "    </tr>\n",
       "    <tr>\n",
       "      <th>1</th>\n",
       "      <td>0.0663</td>\n",
       "      <td>0.0906</td>\n",
       "      <td>2</td>\n",
       "      <td>-26.770</td>\n",
       "      <td>0</td>\n",
       "      <td>0.0457</td>\n",
       "      <td>0.810</td>\n",
       "      <td>0.645</td>\n",
       "      <td>0.1120</td>\n",
       "      <td>0.0427</td>\n",
       "      <td>57.020</td>\n",
       "    </tr>\n",
       "    <tr>\n",
       "      <th>2</th>\n",
       "      <td>0.3990</td>\n",
       "      <td>0.2190</td>\n",
       "      <td>10</td>\n",
       "      <td>-22.531</td>\n",
       "      <td>0</td>\n",
       "      <td>0.0351</td>\n",
       "      <td>0.911</td>\n",
       "      <td>0.910</td>\n",
       "      <td>0.0915</td>\n",
       "      <td>0.1270</td>\n",
       "      <td>139.034</td>\n",
       "    </tr>\n",
       "    <tr>\n",
       "      <th>3</th>\n",
       "      <td>0.2390</td>\n",
       "      <td>0.0358</td>\n",
       "      <td>2</td>\n",
       "      <td>-24.548</td>\n",
       "      <td>0</td>\n",
       "      <td>0.0414</td>\n",
       "      <td>0.962</td>\n",
       "      <td>0.923</td>\n",
       "      <td>0.0841</td>\n",
       "      <td>0.0529</td>\n",
       "      <td>116.784</td>\n",
       "    </tr>\n",
       "    <tr>\n",
       "      <th>4</th>\n",
       "      <td>0.0937</td>\n",
       "      <td>0.0496</td>\n",
       "      <td>8</td>\n",
       "      <td>-25.550</td>\n",
       "      <td>1</td>\n",
       "      <td>0.0401</td>\n",
       "      <td>0.930</td>\n",
       "      <td>0.883</td>\n",
       "      <td>0.0560</td>\n",
       "      <td>0.0319</td>\n",
       "      <td>79.851</td>\n",
       "    </tr>\n",
       "  </tbody>\n",
       "</table>\n",
       "</div>"
      ],
      "text/plain": [
       "   danceability  energy  key  loudness  mode  speechiness  acousticness  \\\n",
       "0        0.1170  0.1080   10   -26.922     1       0.0514         0.471   \n",
       "1        0.0663  0.0906    2   -26.770     0       0.0457         0.810   \n",
       "2        0.3990  0.2190   10   -22.531     0       0.0351         0.911   \n",
       "3        0.2390  0.0358    2   -24.548     0       0.0414         0.962   \n",
       "4        0.0937  0.0496    8   -25.550     1       0.0401         0.930   \n",
       "\n",
       "   instrumentalness  liveness  valence    tempo  \n",
       "0             0.942    0.0785   0.0533  168.900  \n",
       "1             0.645    0.1120   0.0427   57.020  \n",
       "2             0.910    0.0915   0.1270  139.034  \n",
       "3             0.923    0.0841   0.0529  116.784  \n",
       "4             0.883    0.0560   0.0319   79.851  "
      ]
     },
     "metadata": {},
     "output_type": "display_data"
    },
    {
     "name": "stdout",
     "output_type": "stream",
     "text": [
      "\n"
     ]
    },
    {
     "data": {
      "text/html": [
       "<div>\n",
       "<style scoped>\n",
       "    .dataframe tbody tr th:only-of-type {\n",
       "        vertical-align: middle;\n",
       "    }\n",
       "\n",
       "    .dataframe tbody tr th {\n",
       "        vertical-align: top;\n",
       "    }\n",
       "\n",
       "    .dataframe thead th {\n",
       "        text-align: right;\n",
       "    }\n",
       "</style>\n",
       "<table border=\"1\" class=\"dataframe\">\n",
       "  <thead>\n",
       "    <tr style=\"text-align: right;\">\n",
       "      <th></th>\n",
       "      <th>danceability</th>\n",
       "      <th>energy</th>\n",
       "      <th>key</th>\n",
       "      <th>loudness</th>\n",
       "      <th>mode</th>\n",
       "      <th>speechiness</th>\n",
       "      <th>acousticness</th>\n",
       "      <th>instrumentalness</th>\n",
       "      <th>liveness</th>\n",
       "      <th>valence</th>\n",
       "      <th>tempo</th>\n",
       "    </tr>\n",
       "  </thead>\n",
       "  <tbody>\n",
       "    <tr>\n",
       "      <th>0</th>\n",
       "      <td>-2.512843</td>\n",
       "      <td>-2.006280</td>\n",
       "      <td>1.332823</td>\n",
       "      <td>-3.367687</td>\n",
       "      <td>0.704451</td>\n",
       "      <td>-0.313930</td>\n",
       "      <td>0.527440</td>\n",
       "      <td>2.731378</td>\n",
       "      <td>-0.694355</td>\n",
       "      <td>-1.720542</td>\n",
       "      <td>1.642484</td>\n",
       "    </tr>\n",
       "    <tr>\n",
       "      <th>1</th>\n",
       "      <td>-2.796854</td>\n",
       "      <td>-2.076035</td>\n",
       "      <td>-0.907348</td>\n",
       "      <td>-3.338833</td>\n",
       "      <td>-1.419545</td>\n",
       "      <td>-0.370596</td>\n",
       "      <td>1.572196</td>\n",
       "      <td>1.718088</td>\n",
       "      <td>-0.490190</td>\n",
       "      <td>-1.761196</td>\n",
       "      <td>-2.150826</td>\n",
       "    </tr>\n",
       "    <tr>\n",
       "      <th>2</th>\n",
       "      <td>-0.933137</td>\n",
       "      <td>-1.561294</td>\n",
       "      <td>1.332823</td>\n",
       "      <td>-2.534144</td>\n",
       "      <td>-1.419545</td>\n",
       "      <td>-0.475976</td>\n",
       "      <td>1.883465</td>\n",
       "      <td>2.622202</td>\n",
       "      <td>-0.615127</td>\n",
       "      <td>-1.437883</td>\n",
       "      <td>0.629872</td>\n",
       "    </tr>\n",
       "    <tr>\n",
       "      <th>3</th>\n",
       "      <td>-1.829424</td>\n",
       "      <td>-2.295722</td>\n",
       "      <td>-0.907348</td>\n",
       "      <td>-2.917031</td>\n",
       "      <td>-1.419545</td>\n",
       "      <td>-0.413345</td>\n",
       "      <td>2.040641</td>\n",
       "      <td>2.666555</td>\n",
       "      <td>-0.660226</td>\n",
       "      <td>-1.722076</td>\n",
       "      <td>-0.124518</td>\n",
       "    </tr>\n",
       "    <tr>\n",
       "      <th>4</th>\n",
       "      <td>-2.643365</td>\n",
       "      <td>-2.240399</td>\n",
       "      <td>0.772781</td>\n",
       "      <td>-3.107241</td>\n",
       "      <td>0.704451</td>\n",
       "      <td>-0.426269</td>\n",
       "      <td>1.942021</td>\n",
       "      <td>2.530085</td>\n",
       "      <td>-0.831480</td>\n",
       "      <td>-1.802617</td>\n",
       "      <td>-1.376737</td>\n",
       "    </tr>\n",
       "  </tbody>\n",
       "</table>\n",
       "</div>"
      ],
      "text/plain": [
       "   danceability    energy       key  loudness      mode  speechiness  \\\n",
       "0     -2.512843 -2.006280  1.332823 -3.367687  0.704451    -0.313930   \n",
       "1     -2.796854 -2.076035 -0.907348 -3.338833 -1.419545    -0.370596   \n",
       "2     -0.933137 -1.561294  1.332823 -2.534144 -1.419545    -0.475976   \n",
       "3     -1.829424 -2.295722 -0.907348 -2.917031 -1.419545    -0.413345   \n",
       "4     -2.643365 -2.240399  0.772781 -3.107241  0.704451    -0.426269   \n",
       "\n",
       "   acousticness  instrumentalness  liveness   valence     tempo  \n",
       "0      0.527440          2.731378 -0.694355 -1.720542  1.642484  \n",
       "1      1.572196          1.718088 -0.490190 -1.761196 -2.150826  \n",
       "2      1.883465          2.622202 -0.615127 -1.437883  0.629872  \n",
       "3      2.040641          2.666555 -0.660226 -1.722076 -0.124518  \n",
       "4      1.942021          2.530085 -0.831480 -1.802617 -1.376737  "
      ]
     },
     "metadata": {},
     "output_type": "display_data"
    }
   ],
   "source": [
    "scaler = StandardScaler()\n",
    "scaler.fit(df_acoustic_features)\n",
    "df_acoustic_features_scaled = scaler.transform(df_acoustic_features)\n",
    "acoustic_features_scaled_df = pd.DataFrame(df_acoustic_features_scaled, columns = df_acoustic_features.columns)\n",
    "display(df_acoustic_features.head())\n",
    "print()\n",
    "display(acoustic_features_scaled_df.head())"
   ]
  },
  {
   "cell_type": "markdown",
   "id": "c073a5d0",
   "metadata": {},
   "source": [
    "### Clustering with K-Means"
   ]
  },
  {
   "cell_type": "code",
   "execution_count": 126,
   "id": "de93f4dd",
   "metadata": {},
   "outputs": [
    {
     "data": {
      "text/plain": [
       "KMeans(n_clusters=40, random_state=1233)"
      ]
     },
     "execution_count": 126,
     "metadata": {},
     "output_type": "execute_result"
    }
   ],
   "source": [
    "kmeans = KMeans(n_clusters=40, random_state=1233)\n",
    "kmeans.fit(acoustic_features_scaled_df)"
   ]
  },
  {
   "cell_type": "code",
   "execution_count": 127,
   "id": "89efca78",
   "metadata": {},
   "outputs": [
    {
     "data": {
      "text/plain": [
       "array([25, 21, 21, ..., 14, 32, 33], dtype=int32)"
      ]
     },
     "execution_count": 127,
     "metadata": {},
     "output_type": "execute_result"
    }
   ],
   "source": [
    "kmeans.labels_"
   ]
  },
  {
   "cell_type": "code",
   "execution_count": 128,
   "id": "66019f10",
   "metadata": {},
   "outputs": [
    {
     "data": {
      "text/plain": [
       "0     2644\n",
       "1     3462\n",
       "2     2033\n",
       "3     3866\n",
       "4     1507\n",
       "5     1665\n",
       "6     2469\n",
       "7     3689\n",
       "8     3896\n",
       "9     2378\n",
       "10    2977\n",
       "11    1861\n",
       "12    1522\n",
       "13    2923\n",
       "14    2685\n",
       "15    2210\n",
       "16    2361\n",
       "17    3502\n",
       "18    2786\n",
       "19    2333\n",
       "20    1685\n",
       "21    1506\n",
       "22    5280\n",
       "23     615\n",
       "24    2233\n",
       "25    1183\n",
       "26    3277\n",
       "27    2632\n",
       "28    2107\n",
       "29    3207\n",
       "30    2863\n",
       "31    1057\n",
       "32    2142\n",
       "33    1920\n",
       "34    4327\n",
       "35    1769\n",
       "36    2020\n",
       "37    1970\n",
       "38    3344\n",
       "39    3480\n",
       "dtype: int64"
      ]
     },
     "execution_count": 128,
     "metadata": {},
     "output_type": "execute_result"
    }
   ],
   "source": [
    "clusters = kmeans.predict(acoustic_features_scaled_df)\n",
    "pd.Series(clusters).value_counts().sort_index()"
   ]
  },
  {
   "cell_type": "code",
   "execution_count": 129,
   "id": "886754df",
   "metadata": {},
   "outputs": [
    {
     "data": {
      "text/html": [
       "<div>\n",
       "<style scoped>\n",
       "    .dataframe tbody tr th:only-of-type {\n",
       "        vertical-align: middle;\n",
       "    }\n",
       "\n",
       "    .dataframe tbody tr th {\n",
       "        vertical-align: top;\n",
       "    }\n",
       "\n",
       "    .dataframe thead th {\n",
       "        text-align: right;\n",
       "    }\n",
       "</style>\n",
       "<table border=\"1\" class=\"dataframe\">\n",
       "  <thead>\n",
       "    <tr style=\"text-align: right;\">\n",
       "      <th></th>\n",
       "      <th>danceability</th>\n",
       "      <th>energy</th>\n",
       "      <th>key</th>\n",
       "      <th>loudness</th>\n",
       "      <th>mode</th>\n",
       "      <th>speechiness</th>\n",
       "      <th>acousticness</th>\n",
       "      <th>instrumentalness</th>\n",
       "      <th>liveness</th>\n",
       "      <th>valence</th>\n",
       "      <th>tempo</th>\n",
       "      <th>cluster</th>\n",
       "    </tr>\n",
       "  </thead>\n",
       "  <tbody>\n",
       "    <tr>\n",
       "      <th>0</th>\n",
       "      <td>0.1170</td>\n",
       "      <td>0.1080</td>\n",
       "      <td>10</td>\n",
       "      <td>-26.922</td>\n",
       "      <td>1</td>\n",
       "      <td>0.0514</td>\n",
       "      <td>0.471</td>\n",
       "      <td>0.942</td>\n",
       "      <td>0.0785</td>\n",
       "      <td>0.0533</td>\n",
       "      <td>168.900</td>\n",
       "      <td>25</td>\n",
       "    </tr>\n",
       "    <tr>\n",
       "      <th>1</th>\n",
       "      <td>0.0663</td>\n",
       "      <td>0.0906</td>\n",
       "      <td>2</td>\n",
       "      <td>-26.770</td>\n",
       "      <td>0</td>\n",
       "      <td>0.0457</td>\n",
       "      <td>0.810</td>\n",
       "      <td>0.645</td>\n",
       "      <td>0.1120</td>\n",
       "      <td>0.0427</td>\n",
       "      <td>57.020</td>\n",
       "      <td>21</td>\n",
       "    </tr>\n",
       "    <tr>\n",
       "      <th>2</th>\n",
       "      <td>0.3990</td>\n",
       "      <td>0.2190</td>\n",
       "      <td>10</td>\n",
       "      <td>-22.531</td>\n",
       "      <td>0</td>\n",
       "      <td>0.0351</td>\n",
       "      <td>0.911</td>\n",
       "      <td>0.910</td>\n",
       "      <td>0.0915</td>\n",
       "      <td>0.1270</td>\n",
       "      <td>139.034</td>\n",
       "      <td>21</td>\n",
       "    </tr>\n",
       "    <tr>\n",
       "      <th>3</th>\n",
       "      <td>0.2390</td>\n",
       "      <td>0.0358</td>\n",
       "      <td>2</td>\n",
       "      <td>-24.548</td>\n",
       "      <td>0</td>\n",
       "      <td>0.0414</td>\n",
       "      <td>0.962</td>\n",
       "      <td>0.923</td>\n",
       "      <td>0.0841</td>\n",
       "      <td>0.0529</td>\n",
       "      <td>116.784</td>\n",
       "      <td>21</td>\n",
       "    </tr>\n",
       "    <tr>\n",
       "      <th>4</th>\n",
       "      <td>0.0937</td>\n",
       "      <td>0.0496</td>\n",
       "      <td>8</td>\n",
       "      <td>-25.550</td>\n",
       "      <td>1</td>\n",
       "      <td>0.0401</td>\n",
       "      <td>0.930</td>\n",
       "      <td>0.883</td>\n",
       "      <td>0.0560</td>\n",
       "      <td>0.0319</td>\n",
       "      <td>79.851</td>\n",
       "      <td>2</td>\n",
       "    </tr>\n",
       "  </tbody>\n",
       "</table>\n",
       "</div>"
      ],
      "text/plain": [
       "   danceability  energy  key  loudness  mode  speechiness  acousticness  \\\n",
       "0        0.1170  0.1080   10   -26.922     1       0.0514         0.471   \n",
       "1        0.0663  0.0906    2   -26.770     0       0.0457         0.810   \n",
       "2        0.3990  0.2190   10   -22.531     0       0.0351         0.911   \n",
       "3        0.2390  0.0358    2   -24.548     0       0.0414         0.962   \n",
       "4        0.0937  0.0496    8   -25.550     1       0.0401         0.930   \n",
       "\n",
       "   instrumentalness  liveness  valence    tempo  cluster  \n",
       "0             0.942    0.0785   0.0533  168.900       25  \n",
       "1             0.645    0.1120   0.0427   57.020       21  \n",
       "2             0.910    0.0915   0.1270  139.034       21  \n",
       "3             0.923    0.0841   0.0529  116.784       21  \n",
       "4             0.883    0.0560   0.0319   79.851        2  "
      ]
     },
     "execution_count": 129,
     "metadata": {},
     "output_type": "execute_result"
    }
   ],
   "source": [
    "df_acoustic_features[\"cluster\"] = clusters\n",
    "df_acoustic_features.head()"
   ]
  },
  {
   "cell_type": "code",
   "execution_count": 130,
   "id": "2f14f75e",
   "metadata": {},
   "outputs": [
    {
     "data": {
      "text/html": [
       "<div>\n",
       "<style scoped>\n",
       "    .dataframe tbody tr th:only-of-type {\n",
       "        vertical-align: middle;\n",
       "    }\n",
       "\n",
       "    .dataframe tbody tr th {\n",
       "        vertical-align: top;\n",
       "    }\n",
       "\n",
       "    .dataframe thead th {\n",
       "        text-align: right;\n",
       "    }\n",
       "</style>\n",
       "<table border=\"1\" class=\"dataframe\">\n",
       "  <thead>\n",
       "    <tr style=\"text-align: right;\">\n",
       "      <th></th>\n",
       "      <th>danceability</th>\n",
       "      <th>energy</th>\n",
       "      <th>key</th>\n",
       "      <th>loudness</th>\n",
       "      <th>mode</th>\n",
       "      <th>speechiness</th>\n",
       "      <th>acousticness</th>\n",
       "      <th>instrumentalness</th>\n",
       "      <th>liveness</th>\n",
       "      <th>valence</th>\n",
       "      <th>tempo</th>\n",
       "      <th>cluster</th>\n",
       "      <th>id</th>\n",
       "    </tr>\n",
       "  </thead>\n",
       "  <tbody>\n",
       "    <tr>\n",
       "      <th>0</th>\n",
       "      <td>0.1170</td>\n",
       "      <td>0.1080</td>\n",
       "      <td>10</td>\n",
       "      <td>-26.922</td>\n",
       "      <td>1</td>\n",
       "      <td>0.0514</td>\n",
       "      <td>0.4710</td>\n",
       "      <td>0.942000</td>\n",
       "      <td>0.0785</td>\n",
       "      <td>0.0533</td>\n",
       "      <td>168.900</td>\n",
       "      <td>25</td>\n",
       "      <td>0saVGOHWPnGXus321u3c1i</td>\n",
       "    </tr>\n",
       "    <tr>\n",
       "      <th>1</th>\n",
       "      <td>0.0663</td>\n",
       "      <td>0.0906</td>\n",
       "      <td>2</td>\n",
       "      <td>-26.770</td>\n",
       "      <td>0</td>\n",
       "      <td>0.0457</td>\n",
       "      <td>0.8100</td>\n",
       "      <td>0.645000</td>\n",
       "      <td>0.1120</td>\n",
       "      <td>0.0427</td>\n",
       "      <td>57.020</td>\n",
       "      <td>21</td>\n",
       "      <td>0tQjYkNljPf8hhP7RdseSb</td>\n",
       "    </tr>\n",
       "    <tr>\n",
       "      <th>2</th>\n",
       "      <td>0.3990</td>\n",
       "      <td>0.2190</td>\n",
       "      <td>10</td>\n",
       "      <td>-22.531</td>\n",
       "      <td>0</td>\n",
       "      <td>0.0351</td>\n",
       "      <td>0.9110</td>\n",
       "      <td>0.910000</td>\n",
       "      <td>0.0915</td>\n",
       "      <td>0.1270</td>\n",
       "      <td>139.034</td>\n",
       "      <td>21</td>\n",
       "      <td>78U33gGujgyj1393Dr8uWO</td>\n",
       "    </tr>\n",
       "    <tr>\n",
       "      <th>3</th>\n",
       "      <td>0.2390</td>\n",
       "      <td>0.0358</td>\n",
       "      <td>2</td>\n",
       "      <td>-24.548</td>\n",
       "      <td>0</td>\n",
       "      <td>0.0414</td>\n",
       "      <td>0.9620</td>\n",
       "      <td>0.923000</td>\n",
       "      <td>0.0841</td>\n",
       "      <td>0.0529</td>\n",
       "      <td>116.784</td>\n",
       "      <td>21</td>\n",
       "      <td>7MqzOAWxhXEoRyivx1cfdF</td>\n",
       "    </tr>\n",
       "    <tr>\n",
       "      <th>4</th>\n",
       "      <td>0.0937</td>\n",
       "      <td>0.0496</td>\n",
       "      <td>8</td>\n",
       "      <td>-25.550</td>\n",
       "      <td>1</td>\n",
       "      <td>0.0401</td>\n",
       "      <td>0.9300</td>\n",
       "      <td>0.883000</td>\n",
       "      <td>0.0560</td>\n",
       "      <td>0.0319</td>\n",
       "      <td>79.851</td>\n",
       "      <td>2</td>\n",
       "      <td>7LlnIsRxZD5w2GmGD1u3l1</td>\n",
       "    </tr>\n",
       "    <tr>\n",
       "      <th>...</th>\n",
       "      <td>...</td>\n",
       "      <td>...</td>\n",
       "      <td>...</td>\n",
       "      <td>...</td>\n",
       "      <td>...</td>\n",
       "      <td>...</td>\n",
       "      <td>...</td>\n",
       "      <td>...</td>\n",
       "      <td>...</td>\n",
       "      <td>...</td>\n",
       "      <td>...</td>\n",
       "      <td>...</td>\n",
       "      <td>...</td>\n",
       "    </tr>\n",
       "    <tr>\n",
       "      <th>101381</th>\n",
       "      <td>0.7910</td>\n",
       "      <td>0.6080</td>\n",
       "      <td>6</td>\n",
       "      <td>-10.428</td>\n",
       "      <td>0</td>\n",
       "      <td>0.2880</td>\n",
       "      <td>0.0556</td>\n",
       "      <td>0.000074</td>\n",
       "      <td>0.3610</td>\n",
       "      <td>0.6210</td>\n",
       "      <td>111.518</td>\n",
       "      <td>33</td>\n",
       "      <td>6tYX8lbMl5aH3p3Cnew6mG</td>\n",
       "    </tr>\n",
       "    <tr>\n",
       "      <th>101382</th>\n",
       "      <td>0.7890</td>\n",
       "      <td>0.4270</td>\n",
       "      <td>11</td>\n",
       "      <td>-12.633</td>\n",
       "      <td>1</td>\n",
       "      <td>0.1390</td>\n",
       "      <td>0.1340</td>\n",
       "      <td>0.883000</td>\n",
       "      <td>0.2880</td>\n",
       "      <td>0.8710</td>\n",
       "      <td>96.885</td>\n",
       "      <td>19</td>\n",
       "      <td>0wkaBWFqLAvhnLosIsgSp1</td>\n",
       "    </tr>\n",
       "    <tr>\n",
       "      <th>101383</th>\n",
       "      <td>0.6020</td>\n",
       "      <td>0.7980</td>\n",
       "      <td>4</td>\n",
       "      <td>-10.125</td>\n",
       "      <td>0</td>\n",
       "      <td>0.0703</td>\n",
       "      <td>0.0159</td>\n",
       "      <td>0.407000</td>\n",
       "      <td>0.3760</td>\n",
       "      <td>0.5040</td>\n",
       "      <td>197.143</td>\n",
       "      <td>14</td>\n",
       "      <td>1X2O4ObuDdTZAsAVB6zg5t</td>\n",
       "    </tr>\n",
       "    <tr>\n",
       "      <th>101384</th>\n",
       "      <td>0.9200</td>\n",
       "      <td>0.6460</td>\n",
       "      <td>1</td>\n",
       "      <td>-8.735</td>\n",
       "      <td>1</td>\n",
       "      <td>0.2850</td>\n",
       "      <td>0.0430</td>\n",
       "      <td>0.000012</td>\n",
       "      <td>0.3070</td>\n",
       "      <td>0.8310</td>\n",
       "      <td>93.794</td>\n",
       "      <td>32</td>\n",
       "      <td>6zceR6vUKRuEwVYEODIhz2</td>\n",
       "    </tr>\n",
       "    <tr>\n",
       "      <th>101385</th>\n",
       "      <td>0.7510</td>\n",
       "      <td>0.7590</td>\n",
       "      <td>6</td>\n",
       "      <td>-9.996</td>\n",
       "      <td>0</td>\n",
       "      <td>0.2270</td>\n",
       "      <td>0.1800</td>\n",
       "      <td>0.000011</td>\n",
       "      <td>0.2720</td>\n",
       "      <td>0.3730</td>\n",
       "      <td>111.536</td>\n",
       "      <td>33</td>\n",
       "      <td>0je5gKlfaXW0QTAB0S9TJ1</td>\n",
       "    </tr>\n",
       "  </tbody>\n",
       "</table>\n",
       "<p>101386 rows × 13 columns</p>\n",
       "</div>"
      ],
      "text/plain": [
       "        danceability  energy  key  loudness  mode  speechiness  acousticness  \\\n",
       "0             0.1170  0.1080   10   -26.922     1       0.0514        0.4710   \n",
       "1             0.0663  0.0906    2   -26.770     0       0.0457        0.8100   \n",
       "2             0.3990  0.2190   10   -22.531     0       0.0351        0.9110   \n",
       "3             0.2390  0.0358    2   -24.548     0       0.0414        0.9620   \n",
       "4             0.0937  0.0496    8   -25.550     1       0.0401        0.9300   \n",
       "...              ...     ...  ...       ...   ...          ...           ...   \n",
       "101381        0.7910  0.6080    6   -10.428     0       0.2880        0.0556   \n",
       "101382        0.7890  0.4270   11   -12.633     1       0.1390        0.1340   \n",
       "101383        0.6020  0.7980    4   -10.125     0       0.0703        0.0159   \n",
       "101384        0.9200  0.6460    1    -8.735     1       0.2850        0.0430   \n",
       "101385        0.7510  0.7590    6    -9.996     0       0.2270        0.1800   \n",
       "\n",
       "        instrumentalness  liveness  valence    tempo  cluster  \\\n",
       "0               0.942000    0.0785   0.0533  168.900       25   \n",
       "1               0.645000    0.1120   0.0427   57.020       21   \n",
       "2               0.910000    0.0915   0.1270  139.034       21   \n",
       "3               0.923000    0.0841   0.0529  116.784       21   \n",
       "4               0.883000    0.0560   0.0319   79.851        2   \n",
       "...                  ...       ...      ...      ...      ...   \n",
       "101381          0.000074    0.3610   0.6210  111.518       33   \n",
       "101382          0.883000    0.2880   0.8710   96.885       19   \n",
       "101383          0.407000    0.3760   0.5040  197.143       14   \n",
       "101384          0.000012    0.3070   0.8310   93.794       32   \n",
       "101385          0.000011    0.2720   0.3730  111.536       33   \n",
       "\n",
       "                            id  \n",
       "0       0saVGOHWPnGXus321u3c1i  \n",
       "1       0tQjYkNljPf8hhP7RdseSb  \n",
       "2       78U33gGujgyj1393Dr8uWO  \n",
       "3       7MqzOAWxhXEoRyivx1cfdF  \n",
       "4       7LlnIsRxZD5w2GmGD1u3l1  \n",
       "...                        ...  \n",
       "101381  6tYX8lbMl5aH3p3Cnew6mG  \n",
       "101382  0wkaBWFqLAvhnLosIsgSp1  \n",
       "101383  1X2O4ObuDdTZAsAVB6zg5t  \n",
       "101384  6zceR6vUKRuEwVYEODIhz2  \n",
       "101385  0je5gKlfaXW0QTAB0S9TJ1  \n",
       "\n",
       "[101386 rows x 13 columns]"
      ]
     },
     "execution_count": 130,
     "metadata": {},
     "output_type": "execute_result"
    }
   ],
   "source": [
    "df_acoustic_features[\"id\"] = df_101k_songs[\"id\"]\n",
    "df_acoustic_features"
   ]
  },
  {
   "cell_type": "code",
   "execution_count": 131,
   "id": "0d83e269",
   "metadata": {},
   "outputs": [],
   "source": [
    "df_acoustic_features.to_csv(\"df_acoustic_features.csv\")"
   ]
  },
  {
   "cell_type": "code",
   "execution_count": 132,
   "id": "ca6cb6ac",
   "metadata": {},
   "outputs": [
    {
     "data": {
      "text/html": [
       "<div>\n",
       "<style scoped>\n",
       "    .dataframe tbody tr th:only-of-type {\n",
       "        vertical-align: middle;\n",
       "    }\n",
       "\n",
       "    .dataframe tbody tr th {\n",
       "        vertical-align: top;\n",
       "    }\n",
       "\n",
       "    .dataframe thead th {\n",
       "        text-align: right;\n",
       "    }\n",
       "</style>\n",
       "<table border=\"1\" class=\"dataframe\">\n",
       "  <thead>\n",
       "    <tr style=\"text-align: right;\">\n",
       "      <th></th>\n",
       "      <th>cluster</th>\n",
       "      <th>id</th>\n",
       "    </tr>\n",
       "  </thead>\n",
       "  <tbody>\n",
       "    <tr>\n",
       "      <th>0</th>\n",
       "      <td>25</td>\n",
       "      <td>0saVGOHWPnGXus321u3c1i</td>\n",
       "    </tr>\n",
       "    <tr>\n",
       "      <th>1</th>\n",
       "      <td>21</td>\n",
       "      <td>0tQjYkNljPf8hhP7RdseSb</td>\n",
       "    </tr>\n",
       "    <tr>\n",
       "      <th>2</th>\n",
       "      <td>21</td>\n",
       "      <td>78U33gGujgyj1393Dr8uWO</td>\n",
       "    </tr>\n",
       "    <tr>\n",
       "      <th>3</th>\n",
       "      <td>21</td>\n",
       "      <td>7MqzOAWxhXEoRyivx1cfdF</td>\n",
       "    </tr>\n",
       "    <tr>\n",
       "      <th>4</th>\n",
       "      <td>2</td>\n",
       "      <td>7LlnIsRxZD5w2GmGD1u3l1</td>\n",
       "    </tr>\n",
       "    <tr>\n",
       "      <th>...</th>\n",
       "      <td>...</td>\n",
       "      <td>...</td>\n",
       "    </tr>\n",
       "    <tr>\n",
       "      <th>101381</th>\n",
       "      <td>33</td>\n",
       "      <td>6tYX8lbMl5aH3p3Cnew6mG</td>\n",
       "    </tr>\n",
       "    <tr>\n",
       "      <th>101382</th>\n",
       "      <td>19</td>\n",
       "      <td>0wkaBWFqLAvhnLosIsgSp1</td>\n",
       "    </tr>\n",
       "    <tr>\n",
       "      <th>101383</th>\n",
       "      <td>14</td>\n",
       "      <td>1X2O4ObuDdTZAsAVB6zg5t</td>\n",
       "    </tr>\n",
       "    <tr>\n",
       "      <th>101384</th>\n",
       "      <td>32</td>\n",
       "      <td>6zceR6vUKRuEwVYEODIhz2</td>\n",
       "    </tr>\n",
       "    <tr>\n",
       "      <th>101385</th>\n",
       "      <td>33</td>\n",
       "      <td>0je5gKlfaXW0QTAB0S9TJ1</td>\n",
       "    </tr>\n",
       "  </tbody>\n",
       "</table>\n",
       "<p>101386 rows × 2 columns</p>\n",
       "</div>"
      ],
      "text/plain": [
       "        cluster                      id\n",
       "0            25  0saVGOHWPnGXus321u3c1i\n",
       "1            21  0tQjYkNljPf8hhP7RdseSb\n",
       "2            21  78U33gGujgyj1393Dr8uWO\n",
       "3            21  7MqzOAWxhXEoRyivx1cfdF\n",
       "4             2  7LlnIsRxZD5w2GmGD1u3l1\n",
       "...         ...                     ...\n",
       "101381       33  6tYX8lbMl5aH3p3Cnew6mG\n",
       "101382       19  0wkaBWFqLAvhnLosIsgSp1\n",
       "101383       14  1X2O4ObuDdTZAsAVB6zg5t\n",
       "101384       32  6zceR6vUKRuEwVYEODIhz2\n",
       "101385       33  0je5gKlfaXW0QTAB0S9TJ1\n",
       "\n",
       "[101386 rows x 2 columns]"
      ]
     },
     "execution_count": 132,
     "metadata": {},
     "output_type": "execute_result"
    }
   ],
   "source": [
    "lookup_cluster_id_df = pd.DataFrame(data=df_acoustic_features, columns=[\"cluster\", \"id\"])\n",
    "lookup_cluster_id_df"
   ]
  },
  {
   "cell_type": "markdown",
   "id": "28121539",
   "metadata": {},
   "source": [
    "### Saving and reloading Scaler and Cluster"
   ]
  },
  {
   "cell_type": "code",
   "execution_count": 133,
   "id": "e908c2bd",
   "metadata": {},
   "outputs": [],
   "source": [
    "import pickle\n",
    "\n",
    "with open(\"Prototype/scaler.pickle\", \"wb\") as f:\n",
    "    pickle.dump(scaler,f)\n",
    "\n",
    "with open(\"Prototype/kmeans.pickle\", \"wb\") as f:\n",
    "    pickle.dump(kmeans,f)"
   ]
  },
  {
   "cell_type": "code",
   "execution_count": 134,
   "id": "d24e8cc2",
   "metadata": {},
   "outputs": [],
   "source": [
    "def load(filename = \"filename.pickle\"): \n",
    "    try: \n",
    "        with open(filename, \"rb\") as f: \n",
    "            return pickle.load(f) \n",
    "    except FileNotFoundError: \n",
    "        print(\"File not found!\")"
   ]
  },
  {
   "cell_type": "code",
   "execution_count": 135,
   "id": "8fb9e5d8",
   "metadata": {},
   "outputs": [
    {
     "data": {
      "text/plain": [
       "StandardScaler()"
      ]
     },
     "execution_count": 135,
     "metadata": {},
     "output_type": "execute_result"
    }
   ],
   "source": [
    "scaler_2 = load(\"Prototype/scaler.pickle\")\n",
    "scaler_2"
   ]
  },
  {
   "cell_type": "code",
   "execution_count": 136,
   "id": "f474ef22",
   "metadata": {},
   "outputs": [
    {
     "data": {
      "text/plain": [
       "KMeans(n_clusters=40, random_state=1233)"
      ]
     },
     "execution_count": 136,
     "metadata": {},
     "output_type": "execute_result"
    }
   ],
   "source": [
    "kmeans_2 = load(\"Prototype/kmeans.pickle\")\n",
    "kmeans_2"
   ]
  },
  {
   "cell_type": "markdown",
   "id": "3ce2b271",
   "metadata": {},
   "source": [
    "### Getting User Input"
   ]
  },
  {
   "cell_type": "code",
   "execution_count": 137,
   "id": "39a53cf5",
   "metadata": {},
   "outputs": [],
   "source": [
    "def get_track_data(track_id):\n",
    "    meta = sp.track(track_id)\n",
    "    track_details = {\"name\":meta['name'], \"album\":meta['album']['name'], \n",
    "                    \"artist\":meta['album']['artists'][0]['name']}\n",
    "    return track_details"
   ]
  },
  {
   "cell_type": "code",
   "execution_count": 138,
   "id": "0cc3cb2b",
   "metadata": {},
   "outputs": [
    {
     "data": {
      "text/plain": [
       "{'name': \"when the party's over\",\n",
       " 'album': 'ESTATE 2021 HITS',\n",
       " 'artist': 'Various Artists'}"
      ]
     },
     "execution_count": 138,
     "metadata": {},
     "output_type": "execute_result"
    }
   ],
   "source": [
    "get_track_data(\"1i3fTnSg2X03MWLEt411Eb\")"
   ]
  },
  {
   "cell_type": "code",
   "execution_count": 139,
   "id": "8fc7a80b",
   "metadata": {},
   "outputs": [
    {
     "data": {
      "text/plain": [
       "{'tracks': {'href': 'https://api.spotify.com/v1/search?query=uri%3A1i3fTnSg2X03MWLEt411Eb&type=track&offset=0&limit=10',\n",
       "  'items': [],\n",
       "  'limit': 10,\n",
       "  'next': None,\n",
       "  'offset': 0,\n",
       "  'previous': None,\n",
       "  'total': 0}}"
      ]
     },
     "execution_count": 139,
     "metadata": {},
     "output_type": "execute_result"
    }
   ],
   "source": [
    "results = sp.search(q=\"uri:1i3fTnSg2X03MWLEt411Eb\")\n",
    "results"
   ]
  },
  {
   "cell_type": "markdown",
   "id": "2b31eac7",
   "metadata": {},
   "source": [
    "### Computing User Input"
   ]
  },
  {
   "cell_type": "code",
   "execution_count": 140,
   "id": "498455b3",
   "metadata": {},
   "outputs": [
    {
     "data": {
      "text/html": [
       "<div>\n",
       "<style scoped>\n",
       "    .dataframe tbody tr th:only-of-type {\n",
       "        vertical-align: middle;\n",
       "    }\n",
       "\n",
       "    .dataframe tbody tr th {\n",
       "        vertical-align: top;\n",
       "    }\n",
       "\n",
       "    .dataframe thead th {\n",
       "        text-align: right;\n",
       "    }\n",
       "</style>\n",
       "<table border=\"1\" class=\"dataframe\">\n",
       "  <thead>\n",
       "    <tr style=\"text-align: right;\">\n",
       "      <th></th>\n",
       "      <th>danceability</th>\n",
       "      <th>energy</th>\n",
       "      <th>key</th>\n",
       "      <th>loudness</th>\n",
       "      <th>mode</th>\n",
       "      <th>speechiness</th>\n",
       "      <th>acousticness</th>\n",
       "      <th>instrumentalness</th>\n",
       "      <th>liveness</th>\n",
       "      <th>valence</th>\n",
       "      <th>tempo</th>\n",
       "    </tr>\n",
       "  </thead>\n",
       "  <tbody>\n",
       "    <tr>\n",
       "      <th>0</th>\n",
       "      <td>0.379</td>\n",
       "      <td>0.279</td>\n",
       "      <td>2</td>\n",
       "      <td>-11.842</td>\n",
       "      <td>0</td>\n",
       "      <td>0.0429</td>\n",
       "      <td>0.651</td>\n",
       "      <td>0.0595</td>\n",
       "      <td>0.0823</td>\n",
       "      <td>0.139</td>\n",
       "      <td>150.761</td>\n",
       "    </tr>\n",
       "  </tbody>\n",
       "</table>\n",
       "</div>"
      ],
      "text/plain": [
       "   danceability  energy  key  loudness  mode  speechiness  acousticness  \\\n",
       "0         0.379   0.279    2   -11.842     0       0.0429         0.651   \n",
       "\n",
       "   instrumentalness  liveness  valence    tempo  \n",
       "0            0.0595    0.0823    0.139  150.761  "
      ]
     },
     "execution_count": 140,
     "metadata": {},
     "output_type": "execute_result"
    }
   ],
   "source": [
    "# Show audio features for the track id, the user gave as input\n",
    "\n",
    "user_choice=pd.DataFrame(data=sp.audio_features(\"spotify:track:7yu8AMzJIp4HHBXEnP2u6Z\"),columns=[\"danceability\",\"energy\",\"key\",\"loudness\",\"mode\",\"speechiness\",\"acousticness\",\"instrumentalness\",\"liveness\",\"valence\",\"tempo\"])\n",
    "user_choice"
   ]
  },
  {
   "cell_type": "code",
   "execution_count": 143,
   "id": "44e6caf8",
   "metadata": {},
   "outputs": [],
   "source": [
    "# Scale the audio features of the track\n",
    "# Save scaled input as dataframe \n",
    "\n",
    "def scale_user_choice(user_choice):\n",
    "    scaler_2.fit(user_choice)\n",
    "    user_choice_scaled = scaler.transform(user_choice)\n",
    "    user_choice_scaled_df = pd.DataFrame(user_choice_scaled, columns = user_choice.columns)\n",
    "    return user_choice_scaled_df"
   ]
  },
  {
   "cell_type": "code",
   "execution_count": 148,
   "id": "86e1566c",
   "metadata": {},
   "outputs": [],
   "source": [
    "user_choice_scaled_df = scale_user_choice(user_choice)"
   ]
  },
  {
   "cell_type": "code",
   "execution_count": 178,
   "id": "4e41cfa8",
   "metadata": {},
   "outputs": [],
   "source": [
    "# Use the trained K-means model to predict the cluster, the input track belongs to\n",
    "# The user´s track fits to cluster nr.2, in regard of the audio features\n",
    "\n",
    "def get_choice_cluster(user_choice_scaled_df):\n",
    "    user_cluster = kmeans_2.predict(user_choice_scaled_df)\n",
    "    return user_cluster"
   ]
  },
  {
   "cell_type": "code",
   "execution_count": 179,
   "id": "bf646ffb",
   "metadata": {},
   "outputs": [],
   "source": [
    "user_choice_cluster = get_choice_cluster(user_choice_scaled_df)"
   ]
  },
  {
   "cell_type": "code",
   "execution_count": 180,
   "id": "43e4482d",
   "metadata": {},
   "outputs": [
    {
     "data": {
      "text/plain": [
       "array([9], dtype=int32)"
      ]
     },
     "execution_count": 180,
     "metadata": {},
     "output_type": "execute_result"
    }
   ],
   "source": [
    "user_choice_cluster"
   ]
  },
  {
   "cell_type": "code",
   "execution_count": 181,
   "id": "394efab1",
   "metadata": {},
   "outputs": [],
   "source": [
    "# Randomly choose another song from the same cluster\n",
    "\n",
    "def check_cluster(user_choice_cluster):\n",
    "    recommended_song_id = lookup_cluster_id_df[lookup_cluster_id_df[\"cluster\"]==user_choice_cluster[0]][\"id\"].sample().iloc[-1]\n",
    "    return recommended_song_id"
   ]
  },
  {
   "cell_type": "code",
   "execution_count": 182,
   "id": "31464511",
   "metadata": {},
   "outputs": [
    {
     "data": {
      "text/plain": [
       "'7FXFAvkVsZ85KzppbQzYs2'"
      ]
     },
     "execution_count": 182,
     "metadata": {},
     "output_type": "execute_result"
    }
   ],
   "source": [
    "recommended_song_id = check_cluster(user_choice_cluster)\n",
    "recommended_song_id"
   ]
  },
  {
   "cell_type": "code",
   "execution_count": 222,
   "id": "d47c6395",
   "metadata": {},
   "outputs": [],
   "source": [
    "# Return the randomly choosen song as a recommendation for the user\n",
    "\n",
    "def final_recommendation(recommended_song_id):\n",
    "    recommended_song_from_cluster = get_track_data(recommended_song_id)[\"name\"]\n",
    "    artist_of_recommended_song_from_cluster = get_track_data(recommended_song_id)[\"artist\"]\n",
    "    album_of_recommended_song_from_cluster = get_track_data(recommended_song_id)[\"album\"]\n",
    "    print(\"You may also like the song\"+ \" \" + recommended_song_from_cluster + \" by \" + \n",
    "      artist_of_recommended_song_from_cluster + \". Find it with this link https://open.spotify.com/track/\" + recommended_song_id)"
   ]
  },
  {
   "cell_type": "code",
   "execution_count": 223,
   "id": "041a8eda",
   "metadata": {},
   "outputs": [
    {
     "ename": "TypeError",
     "evalue": "final_recommendation() missing 1 required positional argument: 'recommended_song_id'",
     "output_type": "error",
     "traceback": [
      "\u001b[0;31m---------------------------------------------------------------------------\u001b[0m",
      "\u001b[0;31mTypeError\u001b[0m                                 Traceback (most recent call last)",
      "\u001b[0;32m<ipython-input-223-4c5cfa0b8723>\u001b[0m in \u001b[0;36m<module>\u001b[0;34m\u001b[0m\n\u001b[0;32m----> 1\u001b[0;31m \u001b[0mfinal_recommendation\u001b[0m\u001b[0;34m(\u001b[0m\u001b[0;34m)\u001b[0m\u001b[0;34m\u001b[0m\u001b[0;34m\u001b[0m\u001b[0m\n\u001b[0m",
      "\u001b[0;31mTypeError\u001b[0m: final_recommendation() missing 1 required positional argument: 'recommended_song_id'"
     ]
    }
   ],
   "source": [
    "final_recommendation()"
   ]
  },
  {
   "cell_type": "markdown",
   "id": "9af0c50f",
   "metadata": {},
   "source": [
    "# PROTOTYPE"
   ]
  },
  {
   "cell_type": "code",
   "execution_count": 224,
   "id": "219e6829",
   "metadata": {},
   "outputs": [],
   "source": [
    "def recommend_song():\n",
    "    requested_song = input(\"Tell me your favorite song: \")\n",
    "        \n",
    "    if requested_song in list(df[\"song\"]):\n",
    "        choice = df[\"song\"].iloc[random.randint(0,len(df))]\n",
    "        return \"Excellent choice! You will also like the song\"  + \" \" + choice\n",
    "    else:\n",
    "        song_id = get_track_id(requested_song)\n",
    "        chosen_song = get_track_data(song_id)\n",
    "        print(\"You chose the song \" + chosen_song['name'] + \" by \" + chosen_song['artist'])\n",
    "        user_choice = pd.DataFrame(data=sp.audio_features(song_id),columns=[\"danceability\",\n",
    "                                                                            \"energy\",\"key\",\n",
    "                                                                            \"loudness\",\n",
    "                                                                            \"mode\",\"speechiness\",\n",
    "                                                                            \"acousticness\",\n",
    "                                                                            \"instrumentalness\",\n",
    "                                                                            \"liveness\",\"valence\",\n",
    "                                                                            \"tempo\"])\n",
    "        user_choice_scaled = scale_user_choice(user_choice)\n",
    "        user_choice_scaled_cluster = get_choice_cluster(user_choice_scaled)\n",
    "        recommended_song_id = check_cluster(user_choice_scaled_cluster)\n",
    "\n",
    "        return final_recommendation(recommended_song_id)"
   ]
  },
  {
   "cell_type": "code",
   "execution_count": 225,
   "id": "ef165053",
   "metadata": {},
   "outputs": [
    {
     "name": "stdout",
     "output_type": "stream",
     "text": [
      "Tell me your favorite song: bad guy\n",
      "You chose the song bad guy by Billie Eilish\n",
      "You may also like the song FEED by Big Sean. Find it with this link https://open.spotify.com/track/2UnYYdvyWndHU4yPdoyAtZ\n"
     ]
    }
   ],
   "source": [
    "recommend_song()"
   ]
  },
  {
   "cell_type": "code",
   "execution_count": null,
   "id": "12c66099",
   "metadata": {},
   "outputs": [],
   "source": []
  }
 ],
 "metadata": {
  "kernelspec": {
   "display_name": "Python 3",
   "language": "python",
   "name": "python3"
  },
  "language_info": {
   "codemirror_mode": {
    "name": "ipython",
    "version": 3
   },
   "file_extension": ".py",
   "mimetype": "text/x-python",
   "name": "python",
   "nbconvert_exporter": "python",
   "pygments_lexer": "ipython3",
   "version": "3.9.6"
  }
 },
 "nbformat": 4,
 "nbformat_minor": 5
}
