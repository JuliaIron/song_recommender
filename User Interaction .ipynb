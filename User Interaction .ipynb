{
 "cells": [
  {
   "cell_type": "code",
   "execution_count": 1,
   "id": "46a6654c",
   "metadata": {
    "slideshow": {
     "slide_type": "skip"
    }
   },
   "outputs": [],
   "source": [
    "import requests \n",
    "from bs4 import BeautifulSoup \n",
    "import pandas as pd\n",
    "import numpy as np\n",
    "import re\n",
    "import random"
   ]
  },
  {
   "cell_type": "code",
   "execution_count": 3,
   "id": "c126adb4",
   "metadata": {
    "slideshow": {
     "slide_type": "skip"
    }
   },
   "outputs": [],
   "source": [
    "df = pd.read_csv(\"artist_song_list.csv\")"
   ]
  },
  {
   "cell_type": "code",
   "execution_count": 4,
   "id": "158ae6cd",
   "metadata": {
    "slideshow": {
     "slide_type": "skip"
    }
   },
   "outputs": [
    {
     "name": "stdout",
     "output_type": "stream",
     "text": [
      "IMY2\n"
     ]
    }
   ],
   "source": [
    "choice = df[\"song\"].iloc[random.randint(0,len(df))]\n",
    "print(choice)"
   ]
  },
  {
   "cell_type": "code",
   "execution_count": 5,
   "id": "4df988c3",
   "metadata": {
    "slideshow": {
     "slide_type": "skip"
    }
   },
   "outputs": [],
   "source": [
    "def recommend_song():\n",
    "    \n",
    "    ask_song = input(\"Tell me your favorite song: \")\n",
    "        \n",
    "    if ask_song in list(df[\"song\"]):\n",
    "            return \"Excellent choice! You will also like\"  + \" \" + choice\n",
    "    else:\n",
    "        return \"This song is not hot\""
   ]
  },
  {
   "attachments": {
    "GNOSIC.PNG": {
     "image/png": "[encoded data removed]"
    }
   },
   "cell_type": "markdown",
   "id": "2ee2444a",
   "metadata": {
    "slideshow": {
     "slide_type": "slide"
    }
   },
   "source": [
    "![GNOSIC.PNG](attachment:GNOSIC.PNG)"
   ]
  },
  {
   "cell_type": "markdown",
   "id": "ad14d089",
   "metadata": {
    "slideshow": {
     "slide_type": "fragment"
    }
   },
   "source": [
    "## Welcome to Gnod's World of Music"
   ]
  },
  {
   "cell_type": "markdown",
   "id": "ee2cf827",
   "metadata": {
    "slideshow": {
     "slide_type": "fragment"
    }
   },
   "source": [
    "#### Let us know - What is your favorite song? "
   ]
  },
  {
   "cell_type": "code",
   "execution_count": null,
   "id": "e39657cc",
   "metadata": {
    "slideshow": {
     "slide_type": "fragment"
    }
   },
   "outputs": [
    {
     "data": {
      "text/html": [
       "<div id=\"deef7b17ee1c4f31\"></div>\n",
       "    <script type=\"text/javascript\">\n",
       "        $(function(){\n",
       "            var p = $(\"#deef7b17ee1c4f31\");\n",
       "            if (p.length==0) return;\n",
       "            while (!p.hasClass(\"cell\")) {\n",
       "                p=p.parent();\n",
       "                if (p.prop(\"tagName\") ==\"body\") return;\n",
       "            }\n",
       "            var cell = p;\n",
       "            cell.find(\".input\").addClass(\"hide-in-slideshow\")\n",
       "        });\n",
       "    </script>"
      ]
     },
     "metadata": {},
     "output_type": "display_data"
    }
   ],
   "source": [
    "recommend_song()"
   ]
  }
 ],
 "metadata": {
  "celltoolbar": "Slideshow",
  "kernelspec": {
   "display_name": "Python 3",
   "language": "python",
   "name": "python3"
  },
  "language_info": {
   "codemirror_mode": {
    "name": "ipython",
    "version": 3
   },
   "file_extension": ".py",
   "mimetype": "text/x-python",
   "name": "python",
   "nbconvert_exporter": "python",
   "pygments_lexer": "ipython3",
   "version": "3.9.6"
  }
 },
 "nbformat": 4,
 "nbformat_minor": 5
}
