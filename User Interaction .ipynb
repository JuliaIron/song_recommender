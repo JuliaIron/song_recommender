{
 "cells": [
  {
   "cell_type": "code",
   "execution_count": 1,
   "id": "46a6654c",
   "metadata": {},
   "outputs": [],
   "source": [
    "import requests # to download html code\n",
    "from bs4 import BeautifulSoup # to navigate through the html code\n",
    "import pandas as pd\n",
    "import numpy as np\n",
    "import re\n",
    "import random"
   ]
  },
  {
   "cell_type": "code",
   "execution_count": 2,
   "id": "cc0be549",
   "metadata": {},
   "outputs": [],
   "source": [
    "df=pd.read_csv(\"artist_song_list.csv\")"
   ]
  },
  {
   "cell_type": "code",
   "execution_count": 39,
   "id": "31407939",
   "metadata": {},
   "outputs": [
    {
     "name": "stdout",
     "output_type": "stream",
     "text": [
      "Summer Of Love\n"
     ]
    }
   ],
   "source": [
    "choice = df[\"song\"].iloc[random.randint(0,len(df))]\n",
    "print(choice)"
   ]
  },
  {
   "cell_type": "code",
   "execution_count": 40,
   "id": "4df988c3",
   "metadata": {},
   "outputs": [],
   "source": [
    "def recommend_song():\n",
    "    \n",
    "    ask_song=input(\"Tell me your favorite song: \")\n",
    "        \n",
    "    if ask_song in list(df[\"song\"]):\n",
    "            return \"Excellent choice! You will also like\"  + \" \" + choice\n",
    "    else:\n",
    "        return \"This song is not hot\""
   ]
  },
  {
   "cell_type": "code",
   "execution_count": 41,
   "id": "e39657cc",
   "metadata": {},
   "outputs": [
    {
     "name": "stdout",
     "output_type": "stream",
     "text": [
      "Tell me your favorite song: Butter\n"
     ]
    },
    {
     "data": {
      "text/plain": [
       "'Excellent choice! You will also like Summer Of Love'"
      ]
     },
     "execution_count": 41,
     "metadata": {},
     "output_type": "execute_result"
    }
   ],
   "source": [
    "recommend_song()"
   ]
  },
  {
   "cell_type": "code",
   "execution_count": null,
   "id": "bd159a74",
   "metadata": {},
   "outputs": [],
   "source": []
  }
 ],
 "metadata": {
  "kernelspec": {
   "display_name": "Python 3",
   "language": "python",
   "name": "python3"
  },
  "language_info": {
   "codemirror_mode": {
    "name": "ipython",
    "version": 3
   },
   "file_extension": ".py",
   "mimetype": "text/x-python",
   "name": "python",
   "nbconvert_exporter": "python",
   "pygments_lexer": "ipython3",
   "version": "3.9.6"
  }
 },
 "nbformat": 4,
 "nbformat_minor": 5
}
